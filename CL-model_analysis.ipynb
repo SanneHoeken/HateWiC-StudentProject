{
 "cells": [
  {
   "cell_type": "code",
   "execution_count": null,
   "metadata": {},
   "outputs": [],
   "source": [
    "import pandas as pd\n",
    "import numpy as np\n",
    "from sklearn.model_selection import train_test_split\n",
    "from sentence_transformers import SentenceTransformer\n",
    "from sklearn.manifold import TSNE\n",
    "import plotly.express as px\n",
    "\n",
    "\n",
    "from transformers import AutoTokenizer, AutoModel\n",
    "import torch\n",
    "import torch.nn.functional as F"
   ]
  },
  {
   "cell_type": "code",
   "execution_count": null,
   "metadata": {},
   "outputs": [],
   "source": [
    "# info on datafile and pre-trained model\n",
    "input_path = 'HateWiC_T5Defs_MajorityLabels.csv'\n",
    "sentence_column = 'T5generated_definition'\n",
    "label_column = 'majority_binary_annotation'\n",
    "id_column = 'id'\n",
    "\n",
    "pretrained_model_name = 'sentence-transformers/all-mpnet-base-v2'\n",
    "trained_model_dir = 'CL-model/final/'"
   ]
  },
  {
   "cell_type": "code",
   "execution_count": null,
   "metadata": {},
   "outputs": [],
   "source": [
    "def get_sentence_embeddings(data, sentence_column, model_path, embedding_name, layer_no=None):\n",
    "\n",
    "    if layer_no == None:\n",
    "        model = SentenceTransformer(model_path).cpu() # device='mps' gives error\n",
    "        embeddings = model.encode(data[sentence_column], show_progress_bar=True)\n",
    "    \n",
    "    else:\n",
    "        tokenizer = AutoTokenizer.from_pretrained(model_path)\n",
    "        model = AutoModel.from_pretrained(model_path, output_hidden_states=True)\n",
    "        encoded_input = tokenizer(list(data[sentence_column]), padding=True, truncation=True, return_tensors='pt')\n",
    "        with torch.no_grad():\n",
    "            model_output = model(**encoded_input)\n",
    "\n",
    "        hidden_states = model_output[-1]\n",
    "        layer_index = min(max(0, layer_no-1), model.config.num_hidden_layers-1)\n",
    "        token_embeddings = hidden_states[layer_index] \n",
    "        # following line would result in the same as 'if layer_no == None' \n",
    "        #token_embeddings = model_output[0]\n",
    "\n",
    "        # mean pooling and normalization\n",
    "        input_mask_expanded = encoded_input['attention_mask'].unsqueeze(-1).expand(token_embeddings.size()).float()\n",
    "        embeddings = torch.sum(token_embeddings * input_mask_expanded, 1) / torch.clamp(input_mask_expanded.sum(1), min=1e-9)\n",
    "        embeddings = F.normalize(embeddings, p=2, dim=1)\n",
    "        embeddings = [t.numpy() for t in list(embeddings)]\n",
    "\n",
    "\n",
    "    data[embedding_name] = list(embeddings)\n",
    "    \n",
    "    return data\n",
    "\n",
    "\n",
    "def get_tsne_data(data, embedding_column):\n",
    "   \n",
    "    tsne = TSNE(verbose=1, random_state=12)\n",
    "    embeddings = np.array(list(data[embedding_column]))\n",
    "    embedded_space = tsne.fit_transform(embeddings)\n",
    "\n",
    "    data[embedding_column+'-tsne-comp-1'] = embedded_space[:,0]\n",
    "    data[embedding_column+'-tsne-comp-2'] = embedded_space[:,1]\n",
    "\n",
    "    return data\n",
    "\n",
    "\n",
    "def plot(data, x_column, y_column, label_column, id_column, plot_title=\"\"):\n",
    "    \n",
    "    plot_df = pd.DataFrame()\n",
    "    plot_df[\"x\"] = data[x_column]\n",
    "    plot_df[\"y\"] = data[y_column]\n",
    "    plot_df[\"label\"] = data[label_column].astype(str)\n",
    "    plot_df[\"data_id\"] = data[id_column]\n",
    "\n",
    "    fig = px.scatter(plot_df, x=\"x\", y=\"y\", color=\"label\", title=plot_title,\n",
    "                     hover_data={'data_id': True, 'x':False, 'y': False})\n",
    "    fig.update_layout(yaxis_title=None, xaxis_title=None)\n",
    "    fig.show()"
   ]
  },
  {
   "cell_type": "code",
   "execution_count": null,
   "metadata": {},
   "outputs": [],
   "source": [
    "# load data\n",
    "data = pd.read_csv(input_path, sep=';')"
   ]
  },
  {
   "cell_type": "code",
   "execution_count": null,
   "metadata": {},
   "outputs": [],
   "source": [
    "# get sentence embedding and T-SNE projection data for pretrained model\n",
    "data = get_sentence_embeddings(data, sentence_column, pretrained_model_name, 'pretrained_embeddings')\n",
    "data = get_tsne_data(data, 'pretrained_embeddings')"
   ]
  },
  {
   "cell_type": "code",
   "execution_count": null,
   "metadata": {},
   "outputs": [],
   "source": [
    "# plot the T-SNE projections of the pretrained model\n",
    "x_column = 'pretrained_embeddings-tsne-comp-1'\n",
    "y_column = 'pretrained_embeddings-tsne-comp-2'\n",
    "plot_title = 'T-SNE projection of pretrained sentence embedding space'\n",
    "plot(data, x_column, y_column, label_column, id_column, plot_title=plot_title)"
   ]
  },
  {
   "cell_type": "code",
   "execution_count": null,
   "metadata": {},
   "outputs": [],
   "source": [
    "# get sentence embedding and T-SNE projection data for contrastive learned model\n",
    "data = get_sentence_embeddings(data, sentence_column, trained_model_dir, 'trained_embeddings')\n",
    "data = get_tsne_data(data, 'trained_embeddings')"
   ]
  },
  {
   "cell_type": "code",
   "execution_count": null,
   "metadata": {},
   "outputs": [],
   "source": [
    "# plot the T-SNE projections of the contrastive learned model\n",
    "x_column = 'trained_embeddings-tsne-comp-1'\n",
    "y_column = 'trained_embeddings-tsne-comp-2'\n",
    "plot_title = 'T-SNE projection of contrastive learned sentence embedding space'\n",
    "plot(data, x_column, y_column, label_column, id_column, plot_title=plot_title)"
   ]
  },
  {
   "cell_type": "code",
   "execution_count": null,
   "metadata": {},
   "outputs": [],
   "source": [
    "# get sentence embedding and T-SNE projection data for a specific hidden layer of the trained model, e.g the 12th\n",
    "layer_no = 12\n",
    "data = get_sentence_embeddings(data, sentence_column, trained_model_dir, f'trained_embeddings_layer{layer_no}', layer_no=layer_no)\n",
    "data = get_tsne_data(data, f'trained_embeddings_layer{layer_no}')\n",
    "\n",
    "# and plot\n",
    "x_column = f'trained_embeddings_layer{layer_no}-tsne-comp-1'\n",
    "y_column = f'trained_embeddings_layer{layer_no}-tsne-comp-2'\n",
    "plot_title = f'T-SNE projection of contrastive learned sentence embedding space - Layer {layer_no}'\n",
    "plot(data, x_column, y_column, label_column, id_column, plot_title=plot_title)"
   ]
  },
  {
   "cell_type": "code",
   "execution_count": null,
   "metadata": {},
   "outputs": [],
   "source": [
    "# get sentence embedding and T-SNE projection data for a specific hidden layer of the trained model, e.g the first\n",
    "layer_no = 1\n",
    "data = get_sentence_embeddings(data, sentence_column, trained_model_dir, f'trained_embeddings_layer{layer_no}', layer_no=layer_no)\n",
    "data = get_tsne_data(data, f'trained_embeddings_layer{layer_no}')\n",
    "\n",
    "# and plot\n",
    "x_column = f'trained_embeddings_layer{layer_no}-tsne-comp-1'\n",
    "y_column = f'trained_embeddings_layer{layer_no}-tsne-comp-2'\n",
    "plot_title = f'T-SNE projection of contrastive learned sentence embedding space - Layer {layer_no}'\n",
    "plot(data, x_column, y_column, label_column, id_column, plot_title=plot_title)"
   ]
  },
  {
   "cell_type": "code",
   "execution_count": null,
   "metadata": {},
   "outputs": [],
   "source": [
    "# get the train-test-splits as the contrastive learning model was also trained with (so don't change the random_state)\n",
    "train_data, dev_test_data = train_test_split(data, train_size=0.8, random_state=12)\n",
    "dev_data, test_data = train_test_split(dev_test_data, train_size=0.5, random_state=12)\n",
    "\n",
    "# plot only one of the splits, e.g. test\n",
    "x_column = 'trained_embeddings-tsne-comp-1'\n",
    "y_column = 'trained_embeddings-tsne-comp-2'\n",
    "plot_title = 'T-SNE projection of contrastive learned sentence embedding space - Test data only'\n",
    "plot(test_data, x_column, y_column, label_column, id_column, plot_title=plot_title)"
   ]
  }
 ],
 "metadata": {
  "kernelspec": {
   "display_name": "Python 3",
   "language": "python",
   "name": "python3"
  },
  "language_info": {
   "codemirror_mode": {
    "name": "ipython",
    "version": 3
   },
   "file_extension": ".py",
   "mimetype": "text/x-python",
   "name": "python",
   "nbconvert_exporter": "python",
   "pygments_lexer": "ipython3",
   "version": "3.9.6"
  }
 },
 "nbformat": 4,
 "nbformat_minor": 2
}
